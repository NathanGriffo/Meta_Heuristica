{
 "cells": [
  {
   "cell_type": "markdown",
   "metadata": {},
   "source": [
    "7 - Leia uma velocidade em km/h (quilômetros por hora) e apresente-a em m/s (metros por segundo). A fórmula de conversão é: m = k/3.6\n"
   ]
  },
  {
   "cell_type": "code",
   "execution_count": 3,
   "metadata": {},
   "outputs": [
    {
     "name": "stdout",
     "output_type": "stream",
     "text": [
      "Insira a velocicidade máxima que os ônibus da Transcol podem percorrer (em km/h)\n",
      "\n",
      "\n",
      " a velocidade máxima percorrida pelos ônibus da transcol é: 16.666666666666668  m/s\n"
     ]
    }
   ],
   "source": [
    "print(\"Insira a velocicidade máxima que os ônibus da Transcol podem percorrer (em km/h)\")\n",
    "k = float(input())\n",
    "m = k/3.6\n",
    "\n",
    "print(\"\\n\\n a velocidade máxima percorrida pelos ônibus da transcol é:\", m, \" m/s\")"
   ]
  },
  {
   "cell_type": "markdown",
   "metadata": {},
   "source": [
    " 8. Leia um ângulo em graus e apresente-o convertido em radianos (R = G * π//180.0)."
   ]
  },
  {
   "cell_type": "code",
   "execution_count": null,
   "metadata": {},
   "outputs": [],
   "source": [
    "print(\"\\n\\n insira quantos graus uma coruja consegue girar a cabeça\")\n",
    "G = float(input())\n",
    "π = 3.14\n",
    "\n",
    "R = G*π/180.0\n",
    "\n",
    "print(\"\\n\\n as corujas giram a cabeça em\", R, \" radianos\")"
   ]
  },
  {
   "cell_type": "markdown",
   "metadata": {},
   "source": [
    "9. Leia quatro notas de um aluno, calcule a média aritmética e imprima o resultado."
   ]
  },
  {
   "cell_type": "code",
   "execution_count": null,
   "metadata": {},
   "outputs": [],
   "source": [
    "print(\"\\n\\n Insira a nota de Nathan:\")\n",
    "n1 = float(input())\n",
    "\n",
    "print(\"\\n\\n Insira a nota de Lorena:\")\n",
    "n2 = float(input())\n",
    "\n",
    "print(\"\\n\\n Insira a nota de Pedro:\")\n",
    "n3 = float(input())\n",
    "\n",
    "print(\"\\n\\n Insira a nota de Vitor:\")\n",
    "n4 = float(input())\n",
    "\n",
    "m = (n1 + n2 + n3 + n4)/ 4\n",
    "\n",
    "print(\"\\n\\n A média das notas dos alunos é:\" , m )"
   ]
  },
  {
   "cell_type": "markdown",
   "metadata": {},
   "source": [
    "10. Leia um valor em real (R$) e a cotação do dólar, e imprima a conversão do valor real em dólar.\n",
    " Ás 20h30 do dia 7 de Agosto de 2023, o dólar estava custando R$ 4,90’\n"
   ]
  },
  {
   "cell_type": "code",
   "execution_count": null,
   "metadata": {},
   "outputs": [],
   "source": [
    "print(\"\\n\\n Insira o valor da passagem do ônibus da águia brancaque faça o trajeto Vitória x Ibatiba:\")\n",
    "v = float(input())\n",
    "d = 4.90\n",
    "r = v / d\n",
    "print(\"A passagem da águia branca de vix para iba em dólar é: $\", r)"
   ]
  },
  {
   "cell_type": "markdown",
   "metadata": {},
   "source": [
    "11.Um encanador fornece seus serviços por uma taxa fixa de R$ 80,00 pela visita inicial para\n",
    "análise do serviço mais R$ 55,00 por cada dia de trabalho necessário para executar o\n",
    "serviço. Faça um programa que pergunte quantos dias de trabalho o encanador terá e\n",
    "informe quanto ele vai receber no total.\n"
   ]
  },
  {
   "cell_type": "code",
   "execution_count": null,
   "metadata": {},
   "outputs": [],
   "source": [
    "print(\"\\n\\n quantos dias o encanador irá trabalhar?\")\n",
    "d = int(input())\n",
    "\n",
    "t = 80 + 55*d\n",
    "\n",
    "print(\"\\n o preço do serviço é: R$\", t, \",00\")\n",
    "\n",
    "# 12. Leia o valor de um produto, e informe o valor com um desconto de 12%.\n",
    "\n",
    "print(\"Insira o valor do produto:\")\n",
    "v = float(input())\n",
    "\n",
    "p = v - (0.12*v)\n",
    "\n",
    "print(\"\\n o valor a ser pago é: R$\", p)"
   ]
  },
  {
   "cell_type": "markdown",
   "metadata": {},
   "source": [
    " 13.Leia o salário de um funcionário e informe o valor do salário com um aumento de 25%."
   ]
  },
  {
   "cell_type": "code",
   "execution_count": null,
   "metadata": {},
   "outputs": [],
   "source": [
    "print(\"Qual o salário do professor Vitor?\")\n",
    "s = float(input())\n",
    "\n",
    "ns = s*1.25\n",
    "\n",
    "print(\"\\n\\n Caso ele se comporte, seu novo salário será R$\", ns)"
   ]
  },
  {
   "cell_type": "markdown",
   "metadata": {},
   "source": [
    "14.A importância de R$ 780.000,00 será dividida entre três ganhadores de um concurso. Sendo\n",
    "que da quantia total:\n",
    "a. O primeiro ganhador receberá 46%;\n",
    "b. O segundo receberá 32%;\n",
    "c. O terceiro receberá o restante;\n",
    "Calcule e imprima a quantia ganha por cada um dos ganhadores."
   ]
  },
  {
   "cell_type": "code",
   "execution_count": null,
   "metadata": {},
   "outputs": [],
   "source": [
    "i = 780000.00\n",
    "\n",
    "\n",
    "g = 0.46 * i\n",
    "\n",
    "G = 0.32 * i\n",
    "\n",
    "Gg = i - g - G\n",
    "\n",
    "print(\"\\n Nathan ganhará: R$\", g, \"\\n Lorena ganhará: R$\", G, \"\\n Pedro ganhará: R$\", Gg)\n"
   ]
  },
  {
   "cell_type": "markdown",
   "metadata": {},
   "source": [
    "15.Receba o salário-base de um funcionário. Calcule e imprima o salário a receber, sabendo-se\n",
    "que este funcionário tem uma gratificação de 5% sobre o salário-base. Além disso, ele paga\n",
    "7% de imposto sobre o salário-base.\n"
   ]
  },
  {
   "cell_type": "code",
   "execution_count": null,
   "metadata": {},
   "outputs": [],
   "source": [
    "print(\"Qual o salário do professor Vitor?\")\n",
    "\n",
    "s = float(input())\n",
    "\n",
    "g = s * 0.05\n",
    "\n",
    "i = s * 0.07\n",
    "\n",
    "l = s + g - i\n",
    "\n",
    "print(\"O salário natalino do professor Vitor será: R$\", l)\n"
   ]
  },
  {
   "cell_type": "markdown",
   "metadata": {},
   "source": [
    "16.Escreva um programa de ajuda para vendedores. A partir de um total lido, mostre:\n"
   ]
  },
  {
   "cell_type": "code",
   "execution_count": null,
   "metadata": {},
   "outputs": [],
   "source": [
    "print(\"insira a precificação encontrada para os serviços da Enpro Jr.\")\n",
    "v = float(input())\n",
    "\n",
    "#a. o total a pagar com desconto de 10%.\n",
    "a = v - (v * 0.10)\n",
    "print(\"\\n o valor pago com 10% de desconto é: R$ {:.2f}\".format(a))\n",
    "\n",
    "# b. o valor de cada parcela no parcelamento de 3x sem juros.\n",
    "b = v / 3\n",
    "print(\"\\n o valor de cada parcela: R$ {:.2f} em 3 vezes sem juros\".format(b))\n",
    "\n",
    "# c. a comissão do vendedor, no caso da venda à vista (5% sobre o valor com desconto).\n",
    "c = a - (a * 0.05)\n",
    "print(\"\\n o valor pago a vista: R$ {:.2f}\".format(c))\n",
    "\n",
    "# d. a comissão do vendedor, no caso da venda ser parcelada (5% sobre o valor total).\n",
    "d = v - (v * 0.05)\n",
    "d1 = d / 3\n",
    "print(\"\\n o valor pago a vista, mas parcelado: R$ {:.2f} em até 3 vezes sem juros\".format(d1))\n"
   ]
  }
 ],
 "metadata": {
  "kernelspec": {
   "display_name": "Python 3",
   "language": "python",
   "name": "python3"
  },
  "language_info": {
   "codemirror_mode": {
    "name": "ipython",
    "version": 3
   },
   "file_extension": ".py",
   "mimetype": "text/x-python",
   "name": "python",
   "nbconvert_exporter": "python",
   "pygments_lexer": "ipython3",
   "version": "3.11.5"
  },
  "orig_nbformat": 4
 },
 "nbformat": 4,
 "nbformat_minor": 2
}
